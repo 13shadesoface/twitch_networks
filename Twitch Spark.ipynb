{
 "cells": [
  {
   "cell_type": "code",
   "execution_count": 1,
   "id": "076aa5a9",
   "metadata": {
    "pycharm": {
     "name": "#%%\n"
    }
   },
   "outputs": [],
   "source": [
    "from pyspark.sql import SparkSession\n",
    "from pyspark.sql.functions import mean, desc, col\n",
    "from pyspark.sql.types import IntegerType\n",
    "import pandas as pd"
   ]
  },
  {
   "cell_type": "code",
   "execution_count": 2,
   "id": "db08cb76",
   "metadata": {},
   "outputs": [
    {
     "name": "stdout",
     "output_type": "stream",
     "text": [
      "22/07/18 18:13:25 WARN Utils: Your hostname, ELISABETH-PERSO resolves to a loopback address: 127.0.1.1; using 10.33.4.168 instead (on interface wlp1s0)\n",
      "22/07/18 18:13:25 WARN Utils: Set SPARK_LOCAL_IP if you need to bind to another address\n"
     ]
    },
    {
     "name": "stderr",
     "output_type": "stream",
     "text": [
      "Setting default log level to \"WARN\".\n",
      "To adjust logging level use sc.setLogLevel(newLevel). For SparkR, use setLogLevel(newLevel).\n"
     ]
    },
    {
     "name": "stdout",
     "output_type": "stream",
     "text": [
      "22/07/18 18:13:26 WARN NativeCodeLoader: Unable to load native-hadoop library for your platform... using builtin-java classes where applicable\n"
     ]
    }
   ],
   "source": [
    "spark = SparkSession.builder \\\n",
    "    .master(\"local[1]\") \\\n",
    "    .appName(\"Twitch_Networks.com\") \\\n",
    "    .getOrCreate()"
   ]
  },
  {
   "cell_type": "markdown",
   "id": "0ca47870",
   "metadata": {
    "pycharm": {
     "name": "#%% md\n"
    }
   },
   "source": [
    "### Import des CSVs"
   ]
  },
  {
   "cell_type": "code",
   "execution_count": 10,
   "id": "268a1dd3",
   "metadata": {},
   "outputs": [
    {
     "name": "stdout",
     "output_type": "stream",
     "text": [
      "+---------------------+-------------------+--------------------+------------+---------------+---------+----------------+------------+---------+------+----------+\n",
      "|              Channel|Watch time(Minutes)|Stream time(minutes)|Peak viewers|Average viewers|Followers|Followers gained|Views gained|Partnered|Mature|  Language|\n",
      "+---------------------+-------------------+--------------------+------------+---------------+---------+----------------+------------+---------+------+----------+\n",
      "|                xQcOW|         6196161750|              215250|      222720|          27716|  3246298|         1734810|    93036735|     True| False|   English|\n",
      "|             summit1g|         6091677300|              211845|      310998|          25610|  5310163|         1370184|    89705964|     True| False|   English|\n",
      "|               Gaules|         5644590915|              515280|      387315|          10976|  1767635|         1023779|   102611607|     True|  True|Portuguese|\n",
      "|             ESL_CSGO|         3970318140|              517740|      300575|           7714|  3944850|          703986|   106546942|     True| False|   English|\n",
      "|                 Tfue|         3671000070|              123660|      285644|          29602|  8938903|         2068424|    78998587|     True| False|   English|\n",
      "|            Asmongold|         3668799075|               82260|      263720|          42414|  1563438|          554201|    61715781|     True| False|   English|\n",
      "|            NICKMERCS|         3360675195|              136275|      115633|          24181|  4074287|         1089824|    46084211|     True| False|   English|\n",
      "|           Fextralife|         3301867485|              147885|       68795|          18985|   508816|          425468|   670137548|     True| False|   English|\n",
      "|            loltyler1|         2928356940|              122490|       89387|          22381|  3530767|          951730|    51349926|     True| False|   English|\n",
      "|              Anomaly|         2865429915|               92880|      125408|          12377|  2607076|         1532689|    36350662|     True| False|   English|\n",
      "|         TimTheTatman|         2834436990|              108780|      142067|          25664|  5265659|         1244341|    50119786|     True|  True|   English|\n",
      "|                LIRIK|         2832930285|              128490|       89170|          21739|  2666382|          199077|    50504526|     True| False|   English|\n",
      "| Riot Games (riotg...|         2674646715|               80820|      639375|          20960|  4487489|          497678|    56855694|     True| False|   English|\n",
      "|               Rubius|         2588632635|               58275|      240096|          42948|  5751354|         3820532|    58599449|     True| False|   Spanish|\n",
      "|            auronplay|         2410022550|               40575|      170115|          53986|  3983847|         3966525|    41514854|     True| False|   Spanish|\n",
      "|       MontanaBlack88|         2408460990|               67740|      181600|          33514|  2911316|         1101093|    37189666|     True|  True|    German|\n",
      "|           sodapoppin|         2329440420|              115305|      107833|          19659|  2786162|          236169|    39334821|     True|  True|   English|\n",
      "|풍월량 (hanryang1125)|         2186662470|              181230|       26999|          12201|   494445|           92205|    34405975|     True| False|    Korean|\n",
      "|             alanzoka|         2055003870|              103770|       89153|          19560|  3445134|         1325075|    46515698|     True| False|Portuguese|\n",
      "|          CohhCarnage|         2029212570|              175230|       43615|          11343|  1264808|          124242|    38718674|     True| False|   English|\n",
      "+---------------------+-------------------+--------------------+------------+---------------+---------+----------------+------------+---------+------+----------+\n",
      "only showing top 20 rows\n",
      "\n",
      "+------+----------+------+\n",
      "|Source|    Target|Weight|\n",
      "+------+----------+------+\n",
      "|Send0o|     elded|   507|\n",
      "|Send0o| riotgames|  4525|\n",
      "|Send0o|NickDaBooM|  1787|\n",
      "|Send0o|    PapoMC|  1551|\n",
      "|Send0o|  ReventXz|  6675|\n",
      "|Send0o|  Alexby11|   653|\n",
      "|Send0o|   jcorko_|   523|\n",
      "|Send0o|   Caedrel|   784|\n",
      "|Send0o|  midbeast|  1000|\n",
      "|Send0o|     grafo|  2075|\n",
      "|Send0o|     ffaka|  4204|\n",
      "|Send0o|    goncho|  1040|\n",
      "|Send0o|HITBOXKING|  1104|\n",
      "|Send0o|      imls|   864|\n",
      "|Send0o|Th3Antonio| 16434|\n",
      "|Send0o|    shroud|  1015|\n",
      "|Send0o|  KarasMai|   857|\n",
      "|Send0o|    Zeling|  3455|\n",
      "|Send0o|   ricoy23|   642|\n",
      "|Send0o| LITkillah|  1598|\n",
      "+------+----------+------+\n",
      "only showing top 20 rows\n",
      "\n"
     ]
    }
   ],
   "source": [
    "df_top = spark.read.csv(\"hdfs://127.0.0.1:9000/esgi/data/projets/final/twitchdata-update.csv\", \n",
    "                           header='true')\n",
    "df_edges = spark.read.csv(\"hdfs://127.0.0.1:9000/esgi/data/projets/final/EDGELIST.csv\", \n",
    "                           header='true')\n",
    "df_top.show()\n",
    "df_edges.show()"
   ]
  },
  {
   "cell_type": "markdown",
   "id": "90f33f25",
   "metadata": {},
   "source": [
    "#### cast string en int"
   ]
  },
  {
   "cell_type": "code",
   "execution_count": 15,
   "id": "df0b1b71",
   "metadata": {},
   "outputs": [
    {
     "name": "stdout",
     "output_type": "stream",
     "text": [
      "+---------------------+-------------------+--------------------+------------+---------------+---------+----------------+------------+---------+------+----------+\n",
      "|              Channel|Watch time(Minutes)|Stream time(minutes)|Peak viewers|Average viewers|Followers|Followers gained|Views gained|Partnered|Mature|  Language|\n",
      "+---------------------+-------------------+--------------------+------------+---------------+---------+----------------+------------+---------+------+----------+\n",
      "|                xQcOW|         6196161750|              215250|      222720|          27716|  3246298|         1734810|    93036735|     True| False|   English|\n",
      "|             summit1g|         6091677300|              211845|      310998|          25610|  5310163|         1370184|    89705964|     True| False|   English|\n",
      "|               Gaules|         5644590915|              515280|      387315|          10976|  1767635|         1023779|   102611607|     True|  True|Portuguese|\n",
      "|             ESL_CSGO|         3970318140|              517740|      300575|           7714|  3944850|          703986|   106546942|     True| False|   English|\n",
      "|                 Tfue|         3671000070|              123660|      285644|          29602|  8938903|         2068424|    78998587|     True| False|   English|\n",
      "|            Asmongold|         3668799075|               82260|      263720|          42414|  1563438|          554201|    61715781|     True| False|   English|\n",
      "|            NICKMERCS|         3360675195|              136275|      115633|          24181|  4074287|         1089824|    46084211|     True| False|   English|\n",
      "|           Fextralife|         3301867485|              147885|       68795|          18985|   508816|          425468|   670137548|     True| False|   English|\n",
      "|            loltyler1|         2928356940|              122490|       89387|          22381|  3530767|          951730|    51349926|     True| False|   English|\n",
      "|              Anomaly|         2865429915|               92880|      125408|          12377|  2607076|         1532689|    36350662|     True| False|   English|\n",
      "|         TimTheTatman|         2834436990|              108780|      142067|          25664|  5265659|         1244341|    50119786|     True|  True|   English|\n",
      "|                LIRIK|         2832930285|              128490|       89170|          21739|  2666382|          199077|    50504526|     True| False|   English|\n",
      "| Riot Games (riotg...|         2674646715|               80820|      639375|          20960|  4487489|          497678|    56855694|     True| False|   English|\n",
      "|               Rubius|         2588632635|               58275|      240096|          42948|  5751354|         3820532|    58599449|     True| False|   Spanish|\n",
      "|            auronplay|         2410022550|               40575|      170115|          53986|  3983847|         3966525|    41514854|     True| False|   Spanish|\n",
      "|       MontanaBlack88|         2408460990|               67740|      181600|          33514|  2911316|         1101093|    37189666|     True|  True|    German|\n",
      "|           sodapoppin|         2329440420|              115305|      107833|          19659|  2786162|          236169|    39334821|     True|  True|   English|\n",
      "|풍월량 (hanryang1125)|         2186662470|              181230|       26999|          12201|   494445|           92205|    34405975|     True| False|    Korean|\n",
      "|             alanzoka|         2055003870|              103770|       89153|          19560|  3445134|         1325075|    46515698|     True| False|Portuguese|\n",
      "|          CohhCarnage|         2029212570|              175230|       43615|          11343|  1264808|          124242|    38718674|     True| False|   English|\n",
      "+---------------------+-------------------+--------------------+------------+---------------+---------+----------------+------------+---------+------+----------+\n",
      "only showing top 20 rows\n",
      "\n"
     ]
    },
    {
     "data": {
      "text/plain": [
       "StructType([StructField('Source', StringType(), True), StructField('Target', StringType(), True), StructField('Weight', IntegerType(), True)])"
      ]
     },
     "execution_count": 15,
     "metadata": {},
     "output_type": "execute_result"
    }
   ],
   "source": [
    "df_top = df_top.withColumn(\"Followers\",col(\"Followers\").cast(\"integer\"))\n",
    "df_top = df_top.withColumn(\"Peak viewers\",col(\"Peak viewers\").cast(\"integer\"))\n",
    "df_top = df_top.withColumn(\"Average viewers\",col(\"Average viewers\").cast(\"integer\"))\n",
    "df_edges = df_edges.withColumn(\"Weight\",col(\"Weight\").cast(\"integer\"))\n",
    "df_top.show()\n",
    "df_edges.schema"
   ]
  },
  {
   "cell_type": "markdown",
   "id": "881b9253",
   "metadata": {
    "pycharm": {
     "name": "#%% md\n"
    }
   },
   "source": [
    "### Edges streamers abonnés"
   ]
  },
  {
   "cell_type": "code",
   "execution_count": null,
   "id": "77e3026f",
   "metadata": {
    "pycharm": {
     "name": "#%%\n"
    }
   },
   "outputs": [],
   "source": [
    "df_edges.sort(\"Source\").limit(5).toPandas()"
   ]
  },
  {
   "cell_type": "markdown",
   "id": "d481413b",
   "metadata": {
    "pycharm": {
     "name": "#%% md\n"
    }
   },
   "source": [
    "### Streamers les plus suivis"
   ]
  },
  {
   "cell_type": "code",
   "execution_count": null,
   "id": "b1ceb80b",
   "metadata": {
    "pycharm": {
     "name": "#%%\n"
    }
   },
   "outputs": [],
   "source": [
    "df_edges.groupBy(\"Target\").count().sort(desc(\"count\")).show()"
   ]
  },
  {
   "cell_type": "code",
   "execution_count": 8,
   "id": "b93e4c3b",
   "metadata": {
    "pycharm": {
     "name": "#%%\n"
    }
   },
   "outputs": [
    {
     "name": "stdout",
     "output_type": "stream",
     "text": [
      "top streamers - count:  1000\n",
      "+---------------------+-------------------+--------------------+------------+---------------+---------+----------------+------------+---------+------+----------+\n",
      "|              Channel|Watch time(Minutes)|Stream time(minutes)|Peak viewers|Average viewers|Followers|Followers gained|Views gained|Partnered|Mature|  Language|\n",
      "+---------------------+-------------------+--------------------+------------+---------------+---------+----------------+------------+---------+------+----------+\n",
      "|                xQcOW|         6196161750|              215250|      222720|          27716|  3246298|         1734810|    93036735|     True| False|   English|\n",
      "|             summit1g|         6091677300|              211845|      310998|          25610|  5310163|         1370184|    89705964|     True| False|   English|\n",
      "|               Gaules|         5644590915|              515280|      387315|          10976|  1767635|         1023779|   102611607|     True|  True|Portuguese|\n",
      "|             ESL_CSGO|         3970318140|              517740|      300575|           7714|  3944850|          703986|   106546942|     True| False|   English|\n",
      "|                 Tfue|         3671000070|              123660|      285644|          29602|  8938903|         2068424|    78998587|     True| False|   English|\n",
      "|            Asmongold|         3668799075|               82260|      263720|          42414|  1563438|          554201|    61715781|     True| False|   English|\n",
      "|            NICKMERCS|         3360675195|              136275|      115633|          24181|  4074287|         1089824|    46084211|     True| False|   English|\n",
      "|           Fextralife|         3301867485|              147885|       68795|          18985|   508816|          425468|   670137548|     True| False|   English|\n",
      "|            loltyler1|         2928356940|              122490|       89387|          22381|  3530767|          951730|    51349926|     True| False|   English|\n",
      "|              Anomaly|         2865429915|               92880|      125408|          12377|  2607076|         1532689|    36350662|     True| False|   English|\n",
      "|         TimTheTatman|         2834436990|              108780|      142067|          25664|  5265659|         1244341|    50119786|     True|  True|   English|\n",
      "|                LIRIK|         2832930285|              128490|       89170|          21739|  2666382|          199077|    50504526|     True| False|   English|\n",
      "| Riot Games (riotg...|         2674646715|               80820|      639375|          20960|  4487489|          497678|    56855694|     True| False|   English|\n",
      "|               Rubius|         2588632635|               58275|      240096|          42948|  5751354|         3820532|    58599449|     True| False|   Spanish|\n",
      "|            auronplay|         2410022550|               40575|      170115|          53986|  3983847|         3966525|    41514854|     True| False|   Spanish|\n",
      "|       MontanaBlack88|         2408460990|               67740|      181600|          33514|  2911316|         1101093|    37189666|     True|  True|    German|\n",
      "|           sodapoppin|         2329440420|              115305|      107833|          19659|  2786162|          236169|    39334821|     True|  True|   English|\n",
      "|풍월량 (hanryang1125)|         2186662470|              181230|       26999|          12201|   494445|           92205|    34405975|     True| False|    Korean|\n",
      "|             alanzoka|         2055003870|              103770|       89153|          19560|  3445134|         1325075|    46515698|     True| False|Portuguese|\n",
      "|          CohhCarnage|         2029212570|              175230|       43615|          11343|  1264808|          124242|    38718674|     True| False|   English|\n",
      "+---------------------+-------------------+--------------------+------------+---------------+---------+----------------+------------+---------+------+----------+\n",
      "only showing top 20 rows\n",
      "\n"
     ]
    }
   ],
   "source": [
    "#df_top_streamers.printSchema()\n",
    "print(\"top streamers - count: \", df_top.count())"
   ]
  },
  {
   "cell_type": "markdown",
   "id": "6bb8f10c",
   "metadata": {
    "pycharm": {
     "name": "#%% md\n"
    }
   },
   "source": [
    "### Moyenne des followers des top streamers"
   ]
  },
  {
   "cell_type": "code",
   "execution_count": null,
   "id": "20c64287",
   "metadata": {
    "pycharm": {
     "name": "#%%\n"
    }
   },
   "outputs": [],
   "source": [
    "# cast string en int df_top_streamers + check autres types de colonnes"
   ]
  },
  {
   "cell_type": "code",
   "execution_count": null,
   "id": "a5b0ef2a",
   "metadata": {
    "pycharm": {
     "name": "#%%\n"
    }
   },
   "outputs": [],
   "source": [
    "print(df_top_streamers.select(mean(\"Followers\"))\n",
    "# pas utiliser collect -> machine locale"
   ]
  },
  {
   "cell_type": "markdown",
   "id": "1dc74f49",
   "metadata": {
    "pycharm": {
     "name": "#%% md\n"
    }
   },
   "source": [
    "### Streamers par ordre décroissant de followers"
   ]
  },
  {
   "cell_type": "code",
   "execution_count": null,
   "id": "f5ab7855",
   "metadata": {
    "pycharm": {
     "name": "#%%\n"
    }
   },
   "outputs": [],
   "source": [
    "df_top_streamers.sort(desc(\"Peak viewers\")).show()"
   ]
  },
  {
   "cell_type": "markdown",
   "id": "c5f61613",
   "metadata": {
    "pycharm": {
     "name": "#%% md\n"
    }
   },
   "source": [
    "### Streamers par ordre décroissant de followers"
   ]
  },
  {
   "cell_type": "code",
   "execution_count": 34,
   "id": "6af288f8",
   "metadata": {
    "collapsed": true,
    "pycharm": {
     "name": "#%%\n"
    }
   },
   "outputs": [
    {
     "name": "stdout",
     "output_type": "stream",
     "text": [
      "+-----------------+-------------------+--------------------+------------+---------------+---------+----------------+------------+---------+------+----------+\n",
      "|          Channel|Watch time(Minutes)|Stream time(minutes)|Peak viewers|Average viewers|Followers|Followers gained|Views gained|Partnered|Mature|  Language|\n",
      "+-----------------+-------------------+--------------------+------------+---------------+---------+----------------+------------+---------+------+----------+\n",
      "|        ESL_DOTA2|          661049190|              212010|       99858|           4714|   337177|           91323|    14784068|     True| False|   English|\n",
      "|피닉스박1 (xkwhd)|          205225605|              179595|        9938|           1139|   142209|           50675|     4794915|     True| False|    Korean|\n",
      "|  龜狗 (gueigotv)|          194262165|              134895|        9918|           1373|   165232|           25466|     6005834|     True|  True|   Chinese|\n",
      "|DreamHackDota2_RU|          152461155|                6135|       98717|          22356|   203419|           30231|     3637232|     True| False|   Russian|\n",
      "|         ANGRYPUG|          360278835|              184845|        9822|           1892|   366463|           48331|     4962556|     True|  True|   English|\n",
      "|           buster|          884353800|               59295|       97838|          14195|  1087377|         1052053|    37351933|     True| False|   Russian|\n",
      "|       VGBootCamp|          181431360|               77085|       97791|           1534|   521938|           24798|     5491154|     True| False|   English|\n",
      "|      landonorris|          209499930|               30120|       97550|           6524|   584831|          457635|    12694726|     True| False|   English|\n",
      "|     DrDisrespect|         1839882465|               73065|       97540|          23794|  4450718|          825004|    43919410|     True| False|   English|\n",
      "|           Tonton|          165536760|              133530|        9738|           1237|   147542|           76656|     3954958|     True| False|    French|\n",
      "| OfficialAndyPyro|          215726910|              209625|        9676|           1027|   255595|           29422|    10284627|     True|  True|   Finnish|\n",
      "|      NeVeR_LosEs|          309559170|               82635|        9671|           3680|   200953|           23806|    10608507|     True| False|   Chinese|\n",
      "|  六希夫 (qttsix)|          216951540|              154035|        9671|           1412|   118305|           23620|     8174656|     True| False|   Chinese|\n",
      "|  소우릎 (so_urf)|          293688270|              167895|        9665|           1756|    95477|           44040|     8120712|     True| False|    Korean|\n",
      "|         LVNDMARK|          788421150|              199350|       96236|           3688|   248829|          244295|     8815201|     True| False|   English|\n",
      "|     SovietWomble|          187497450|               63360|        9616|           2900|  1368076|          214775|     5846971|     True|  True|   English|\n",
      "|          Mushway|          158995065|               56820|        9611|           2638|   310100|          233686|     3178181|     True| False|    French|\n",
      "|        Mazarin1k|          220905615|              202410|        9605|            780|   205378|           68292|     9980766|     True| False|     Czech|\n",
      "|      gratis150ml|          356697420|              198075|        9601|           1801|   741652|          129328|    12187175|     True| False|Portuguese|\n",
      "|         ElRichMC|          288441015|               31155|       95938|           9062|   688715|          431071|     8120275|     True| False|   Spanish|\n",
      "+-----------------+-------------------+--------------------+------------+---------------+---------+----------------+------------+---------+------+----------+\n",
      "only showing top 20 rows\n",
      "\n"
     ]
    }
   ],
   "source": [
    "df_top_streamers.sort(desc(\"Peak viewers\")).show()"
   ]
  }
 ],
 "metadata": {
  "kernelspec": {
   "display_name": "Python 3 (ipykernel)",
   "language": "python",
   "name": "python3"
  },
  "language_info": {
   "codemirror_mode": {
    "name": "ipython",
    "version": 3
   },
   "file_extension": ".py",
   "mimetype": "text/x-python",
   "name": "python",
   "nbconvert_exporter": "python",
   "pygments_lexer": "ipython3",
   "version": "3.9.7"
  }
 },
 "nbformat": 4,
 "nbformat_minor": 5
}
