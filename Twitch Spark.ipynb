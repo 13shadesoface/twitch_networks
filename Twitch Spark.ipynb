{
 "cells": [
  {
   "cell_type": "code",
   "execution_count": 25,
   "id": "076aa5a9",
   "metadata": {
    "pycharm": {
     "name": "#%%\n"
    }
   },
   "outputs": [],
   "source": [
    "from pyspark.sql import SparkSession\n",
    "from pyspark.sql.functions import mean, desc\n",
    "spark = SparkSession.builder \\\n",
    "    .master(\"local[1]\") \\\n",
    "    .appName(\"SparkByExamples.com\") \\\n",
    "    .getOrCreate()"
   ]
  },
  {
   "cell_type": "markdown",
   "id": "0ca47870",
   "metadata": {
    "pycharm": {
     "name": "#%% md\n"
    }
   },
   "source": [
    "### Import des CSVs"
   ]
  },
  {
   "cell_type": "code",
   "execution_count": 27,
   "id": "09e06de3",
   "metadata": {
    "pycharm": {
     "name": "#%%\n"
    }
   },
   "outputs": [],
   "source": [
    "df_top_streamers = spark.read.option(\"header\", True).csv(\"/home/elisabeth/Documents/hadoop/twitchdata-update.csv\")\n",
    "df_GB_target = spark.read.option(\"header\", True).csv(\"/home/elisabeth/Documents/hadoop/ENGB_target.csv\")\n",
    "df_GB_edges = spark.read.option(\"header\", True).csv(\"/home/elisabeth/Documents/hadoop/ENGB_edges.csv\")\n",
    "df_edges = spark.read.option(\"header\", True).csv(\"/home/elisabeth/Documents/hadoop/GephiData/07.02.2021.02.40.42EDGELIST.csv\")"
   ]
  },
  {
   "cell_type": "markdown",
   "source": [
    "### Edges streamers abonnés"
   ],
   "metadata": {
    "collapsed": false,
    "pycharm": {
     "name": "#%% md\n"
    }
   }
  },
  {
   "cell_type": "code",
   "execution_count": null,
   "outputs": [],
   "source": [
    "df_edges.sort(\"Source\").limit(5).toPandas()"
   ],
   "metadata": {
    "collapsed": false,
    "pycharm": {
     "name": "#%%\n"
    }
   }
  },
  {
   "cell_type": "markdown",
   "source": [
    "### Streamers les plus suivis"
   ],
   "metadata": {
    "collapsed": false,
    "pycharm": {
     "name": "#%% md\n"
    }
   }
  },
  {
   "cell_type": "code",
   "execution_count": null,
   "outputs": [],
   "source": [
    "df_edges.groupBy(\"Target\").count().sort(desc(\"count\")).show()"
   ],
   "metadata": {
    "collapsed": false,
    "pycharm": {
     "name": "#%%\n"
    }
   }
  },
  {
   "cell_type": "code",
   "execution_count": null,
   "outputs": [],
   "source": [
    "#df_top_streamers.printSchema()\n",
    "print(\"top streamers - count: \", df_top_streamers.count())\n",
    "df_top_streamers.show()"
   ],
   "metadata": {
    "collapsed": false,
    "pycharm": {
     "name": "#%%\n"
    }
   }
  },
  {
   "cell_type": "markdown",
   "source": [
    "### Moyenne des followers des top streamers"
   ],
   "metadata": {
    "collapsed": false,
    "pycharm": {
     "name": "#%% md\n"
    }
   }
  },
  {
   "cell_type": "code",
   "execution_count": null,
   "outputs": [],
   "source": [
    "# cast string en int df_top_streamers + check autres types de colonnes"
   ],
   "metadata": {
    "collapsed": false,
    "pycharm": {
     "name": "#%%\n"
    }
   }
  },
  {
   "cell_type": "code",
   "execution_count": null,
   "outputs": [],
   "source": [
    "print(df_top_streamers.select(mean(\"Followers\"))\n",
    "# pas utiliser collect -> machine locale"
   ],
   "metadata": {
    "collapsed": false,
    "pycharm": {
     "name": "#%%\n"
    }
   }
  },
  {
   "cell_type": "markdown",
   "source": [
    "### Streamers par ordre décroissant de followers"
   ],
   "metadata": {
    "collapsed": false,
    "pycharm": {
     "name": "#%% md\n"
    }
   }
  },
  {
   "cell_type": "code",
   "execution_count": null,
   "outputs": [],
   "source": [
    "df_top_streamers.sort(desc(\"Peak viewers\")).show()"
   ],
   "metadata": {
    "collapsed": false,
    "pycharm": {
     "name": "#%%\n"
    }
   }
  },
  {
   "cell_type": "markdown",
   "source": [
    "### Vieux trucs"
   ],
   "metadata": {
    "collapsed": false,
    "pycharm": {
     "name": "#%% md\n"
    }
   }
  },
  {
   "cell_type": "markdown",
   "id": "c5f61613",
   "metadata": {
    "pycharm": {
     "name": "#%% md\n"
    }
   },
   "source": [
    "### Streamers par ordre décroissant de followers"
   ]
  },
  {
   "cell_type": "code",
   "execution_count": 34,
   "id": "6af288f8",
   "metadata": {
    "collapsed": true,
    "pycharm": {
     "name": "#%%\n"
    }
   },
   "outputs": [
    {
     "name": "stdout",
     "output_type": "stream",
     "text": [
      "+-----------------+-------------------+--------------------+------------+---------------+---------+----------------+------------+---------+------+----------+\n",
      "|          Channel|Watch time(Minutes)|Stream time(minutes)|Peak viewers|Average viewers|Followers|Followers gained|Views gained|Partnered|Mature|  Language|\n",
      "+-----------------+-------------------+--------------------+------------+---------------+---------+----------------+------------+---------+------+----------+\n",
      "|        ESL_DOTA2|          661049190|              212010|       99858|           4714|   337177|           91323|    14784068|     True| False|   English|\n",
      "|피닉스박1 (xkwhd)|          205225605|              179595|        9938|           1139|   142209|           50675|     4794915|     True| False|    Korean|\n",
      "|  龜狗 (gueigotv)|          194262165|              134895|        9918|           1373|   165232|           25466|     6005834|     True|  True|   Chinese|\n",
      "|DreamHackDota2_RU|          152461155|                6135|       98717|          22356|   203419|           30231|     3637232|     True| False|   Russian|\n",
      "|         ANGRYPUG|          360278835|              184845|        9822|           1892|   366463|           48331|     4962556|     True|  True|   English|\n",
      "|           buster|          884353800|               59295|       97838|          14195|  1087377|         1052053|    37351933|     True| False|   Russian|\n",
      "|       VGBootCamp|          181431360|               77085|       97791|           1534|   521938|           24798|     5491154|     True| False|   English|\n",
      "|      landonorris|          209499930|               30120|       97550|           6524|   584831|          457635|    12694726|     True| False|   English|\n",
      "|     DrDisrespect|         1839882465|               73065|       97540|          23794|  4450718|          825004|    43919410|     True| False|   English|\n",
      "|           Tonton|          165536760|              133530|        9738|           1237|   147542|           76656|     3954958|     True| False|    French|\n",
      "| OfficialAndyPyro|          215726910|              209625|        9676|           1027|   255595|           29422|    10284627|     True|  True|   Finnish|\n",
      "|      NeVeR_LosEs|          309559170|               82635|        9671|           3680|   200953|           23806|    10608507|     True| False|   Chinese|\n",
      "|  六希夫 (qttsix)|          216951540|              154035|        9671|           1412|   118305|           23620|     8174656|     True| False|   Chinese|\n",
      "|  소우릎 (so_urf)|          293688270|              167895|        9665|           1756|    95477|           44040|     8120712|     True| False|    Korean|\n",
      "|         LVNDMARK|          788421150|              199350|       96236|           3688|   248829|          244295|     8815201|     True| False|   English|\n",
      "|     SovietWomble|          187497450|               63360|        9616|           2900|  1368076|          214775|     5846971|     True|  True|   English|\n",
      "|          Mushway|          158995065|               56820|        9611|           2638|   310100|          233686|     3178181|     True| False|    French|\n",
      "|        Mazarin1k|          220905615|              202410|        9605|            780|   205378|           68292|     9980766|     True| False|     Czech|\n",
      "|      gratis150ml|          356697420|              198075|        9601|           1801|   741652|          129328|    12187175|     True| False|Portuguese|\n",
      "|         ElRichMC|          288441015|               31155|       95938|           9062|   688715|          431071|     8120275|     True| False|   Spanish|\n",
      "+-----------------+-------------------+--------------------+------------+---------------+---------+----------------+------------+---------+------+----------+\n",
      "only showing top 20 rows\n",
      "\n"
     ]
    }
   ],
   "source": [
    "df_top_streamers.sort(desc(\"Peak viewers\")).show()"
   ]
  },
  {
   "cell_type": "markdown",
   "id": "bd09c5f7",
   "metadata": {
    "pycharm": {
     "name": "#%% md\n"
    }
   },
   "source": [
    "### Vieux trucs"
   ]
  },
  {
   "cell_type": "code",
   "execution_count": 5,
   "id": "6793eb6e",
   "metadata": {
    "collapsed": true,
    "pycharm": {
     "name": "#%%\n"
    }
   },
   "outputs": [
    {
     "name": "stdout",
     "output_type": "stream",
     "text": [
      "UK target - count:  7126\n",
      "+---------+----+------+------+-------+------+\n",
      "|       id|days|mature| views|partner|new_id|\n",
      "+---------+----+------+------+-------+------+\n",
      "| 73045350|1459| False|  9528|  False|  2299|\n",
      "| 61573865|1629|  True|  3615|  False|   153|\n",
      "|171688860| 411|  True| 46546|  False|   397|\n",
      "|117338954| 953|  True|  5863|  False|  5623|\n",
      "|135804217| 741|  True|  5594|  False|  5875|\n",
      "| 50273956|1820| False|  4594|  False|  3346|\n",
      "| 40189534|2070| False| 18460|  False|  6930|\n",
      "|126853728| 846|  True|   204|  False|  6367|\n",
      "|118869338| 936|  True|  1064|  False|  1434|\n",
      "|115599547| 973| False|313084|  False|  4470|\n",
      "| 94973589|1198| False|   791|  False|  5122|\n",
      "|113241013| 993|  True|   364|  False|  4790|\n",
      "|119663818| 931|  True|  3994|  False|  4919|\n",
      "| 81085785|1354| False|  3956|  False|   575|\n",
      "| 55592461|1720| False|  2833|  False|   639|\n",
      "| 64700169|1573|  True| 16054|  False|  7012|\n",
      "| 36174401|2219| False|  3950|  False|  6445|\n",
      "| 38079222|2142|  True| 89458|   True|  1170|\n",
      "| 13233251|3039|  True|115054|  False|   326|\n",
      "| 59321650|1664| False|   657|  False|  4956|\n",
      "+---------+----+------+------+-------+------+\n",
      "only showing top 20 rows\n",
      "\n"
     ]
    }
   ],
   "source": [
    "print(\"UK target - count: \", df_GB_target.count())\n",
    "df_GB_target.show()"
   ]
  },
  {
   "cell_type": "code",
   "execution_count": 6,
   "id": "b1161051",
   "metadata": {
    "collapsed": true,
    "pycharm": {
     "name": "#%%\n"
    }
   },
   "outputs": [
    {
     "name": "stdout",
     "output_type": "stream",
     "text": [
      "UK edges - count:  7126\n",
      "+----+----+\n",
      "|from|  to|\n",
      "+----+----+\n",
      "|6194| 255|\n",
      "|6194| 980|\n",
      "|6194|2992|\n",
      "|6194|2507|\n",
      "|6194| 986|\n",
      "|6194|4003|\n",
      "|   0|  82|\n",
      "|  15| 343|\n",
      "|  15|4282|\n",
      "|  15|5442|\n",
      "|  15|1162|\n",
      "|  15|3401|\n",
      "|7106|6211|\n",
      "|7106|6611|\n",
      "|7106|1348|\n",
      "|7106|2239|\n",
      "|   2|5842|\n",
      "|   3|3363|\n",
      "|   3|1277|\n",
      "|   3|3739|\n",
      "+----+----+\n",
      "only showing top 20 rows\n",
      "\n"
     ]
    }
   ],
   "source": [
    "print(\"UK edges - count: \", df_GB_target.count())\n",
    "df_GB_edges.show()"
   ]
  },
  {
   "cell_type": "code",
   "execution_count": null,
   "id": "051847f4",
   "metadata": {
    "pycharm": {
     "name": "#%%\n"
    }
   },
   "outputs": [],
   "source": []
  }
 ],
 "metadata": {
  "kernelspec": {
   "display_name": "Python 3 (ipykernel)",
   "language": "python",
   "name": "python3"
  },
  "language_info": {
   "codemirror_mode": {
    "name": "ipython",
    "version": 3
   },
   "file_extension": ".py",
   "mimetype": "text/x-python",
   "name": "python",
   "nbconvert_exporter": "python",
   "pygments_lexer": "ipython3",
   "version": "3.9.7"
  }
 },
 "nbformat": 4,
 "nbformat_minor": 5
}